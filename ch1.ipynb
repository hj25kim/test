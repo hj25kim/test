{
  "nbformat": 4,
  "nbformat_minor": 0,
  "metadata": {
    "colab": {
      "name": "Untitled4.ipynb",
      "provenance": []
    },
    "kernelspec": {
      "name": "python3",
      "display_name": "Python 3"
    },
    "language_info": {
      "name": "python"
    }
  },
  "cells": [
    {
      "cell_type": "markdown",
      "source": [
        "# 테스트 북"
      ],
      "metadata": {
        "id": "i2yPO_f9D-rN"
      }
    },
    {
      "cell_type": "markdown",
      "source": [
        "# 1장. 안녕하세요."
      ],
      "metadata": {
        "id": "yBy9_ADTECxM"
      }
    },
    {
      "cell_type": "code",
      "execution_count": 1,
      "metadata": {
        "colab": {
          "base_uri": "https://localhost:8080/"
        },
        "id": "6t3Eco3sD-Ke",
        "outputId": "8eefe438-1598-4bfe-e745-a7df9bb4f3e2"
      },
      "outputs": [
        {
          "output_type": "stream",
          "name": "stdout",
          "text": [
            "hello\n"
          ]
        }
      ],
      "source": [
        "print('hello')"
      ]
    }
  ]
}