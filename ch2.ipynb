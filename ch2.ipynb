{
  "nbformat": 4,
  "nbformat_minor": 0,
  "metadata": {
    "colab": {
      "name": "Untitled4.ipynb",
      "provenance": []
    },
    "kernelspec": {
      "name": "python3",
      "display_name": "Python 3"
    },
    "language_info": {
      "name": "python"
    }
  },
  "cells": [
    {
      "cell_type": "markdown",
      "source": [
        "# 테스트 북"
      ],
      "metadata": {
        "id": "i2yPO_f9D-rN"
      }
    },
    {
      "cell_type": "markdown",
      "source": [
        "# 2장. 계산기"
      ],
      "metadata": {
        "id": "yBy9_ADTECxM"
      }
    },
    {
      "cell_type": "code",
      "execution_count": 2,
      "metadata": {
        "colab": {
          "base_uri": "https://localhost:8080/"
        },
        "id": "6t3Eco3sD-Ke",
        "outputId": "e89aea5f-8fcd-4c1f-d0cb-02cdeddd457e"
      },
      "outputs": [
        {
          "output_type": "stream",
          "name": "stdout",
          "text": [
            "8\n"
          ]
        }
      ],
      "source": [
        "print(3+5)"
      ]
    },
    {
      "cell_type": "code",
      "source": [
        ""
      ],
      "metadata": {
        "id": "CvqhQx87EctL"
      },
      "execution_count": null,
      "outputs": []
    }
  ]
}